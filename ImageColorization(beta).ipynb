{
 "cells": [
  {
   "cell_type": "code",
   "execution_count": 14,
   "metadata": {
    "id": "uv-YcaLkkqgg"
   },
   "outputs": [],
   "source": [
    "from keras.layers import Conv2D,UpSampling2D,InputLayer\n",
    "from keras.models import Sequential,load_model\n",
    "import tensorflow as tf\n",
    "import numpy as np\n",
    "from skimage.color import rgb2lab,lab2rgb,rgb2gray\n",
    "from keras.preprocessing.image import ImageDataGenerator\n",
    "from keras.utils import load_img,img_to_array\n",
    "from skimage.io import imsave \n",
    "import os\n",
    "from keras.callbacks import TensorBoard"
   ]
  },
  {
   "cell_type": "markdown",
   "metadata": {
    "id": "ihs-ECJynA8W"
   },
   "source": [
    "**DATA** **PRE-PROCESSING**"
   ]
  },
  {
   "cell_type": "code",
   "execution_count": 287,
   "metadata": {},
   "outputs": [],
   "source": [
    "X = []\n",
    "Y=[]\n",
    "for filename in os.listdir('dataset800/Train'):\n",
    "    X.append(rgb2lab(img_to_array(load_img('dataset800/Train/'+filename)))[:,:,0])\n",
    "    Y.append(rgb2lab(img_to_array(load_img('dataset800/Train/'+filename)))[:,:,1:])\n",
    "X = np.array(X, dtype=float)\n",
    "Y=np.array(Y,dtype=float)\n",
    "X=X.reshape(len(X),128,128,1)\n",
    "Y=Y.reshape(len(Y),128,128,2)\n",
    "X=X/255\n",
    "Y=Y/128"
   ]
  },
  {
   "cell_type": "code",
   "execution_count": 15,
   "metadata": {},
   "outputs": [],
   "source": [
    "X = []\n",
    "for filename in os.listdir('dataset800/Train/'):\n",
    "    X.append(img_to_array(load_img('dataset800/Train/'+filename)))\n",
    "X = np.array(X, dtype=float)\n",
    "X=1.0/255*X\n",
    "datagen = ImageDataGenerator(\n",
    "        shear_range=0.2,\n",
    "        zoom_range=0.2,\n",
    "        rotation_range=20,\n",
    "        horizontal_flip=True)\n",
    "\n",
    "# Generate training data\n",
    "batch_size = 10\n",
    "def image_a_b_gen(batch_size):\n",
    "    for batch in datagen.flow(X, batch_size=batch_size):\n",
    "        lab_batch = rgb2lab(batch)\n",
    "        X_batch = lab_batch[:,:,:,0]\n",
    "        Y_batch = lab_batch[:,:,:,1:] / 128\n",
    "        yield (X_batch.reshape(X_batch.shape+(1,)), Y_batch)"
   ]
  },
  {
   "cell_type": "markdown",
   "metadata": {
    "id": "DgH0_x3ovwDv"
   },
   "source": [
    "**Encoding** **layers**"
   ]
  },
  {
   "cell_type": "code",
   "execution_count": 16,
   "metadata": {
    "id": "TRpJUmPluuad"
   },
   "outputs": [],
   "source": [
    "model = Sequential()\n",
    "model.add(InputLayer(input_shape=(None, None, 1)))\n",
    "model.add(Conv2D(64, (3, 3), activation='relu', padding='same'))\n",
    "model.add(Conv2D(64, (3, 3), activation='relu', padding='same', strides=2))\n",
    "model.add(Conv2D(128, (3, 3), activation='relu', padding='same'))\n",
    "model.add(Conv2D(128, (3, 3), activation='relu', padding='same', strides=2))\n",
    "model.add(Conv2D(256, (3, 3), activation='relu', padding='same'))\n",
    "model.add(Conv2D(256, (3, 3), activation='relu', padding='same', strides=2))\n",
    "model.add(Conv2D(512, (3, 3), activation='relu', padding='same'))"
   ]
  },
  {
   "cell_type": "markdown",
   "metadata": {
    "id": "uUAehlSKv2gu"
   },
   "source": [
    "**Decoding** **Layers**"
   ]
  },
  {
   "cell_type": "code",
   "execution_count": 17,
   "metadata": {
    "id": "8CGL0pTUv7k2"
   },
   "outputs": [],
   "source": [
    "model.add(Conv2D(256, (3, 3), activation='relu', padding='same'))\n",
    "model.add(Conv2D(128, (3, 3), activation='relu', padding='same'))\n",
    "model.add(UpSampling2D((2, 2)))\n",
    "model.add(Conv2D(64, (3, 3), activation='relu', padding='same'))\n",
    "model.add(UpSampling2D((2, 2)))\n",
    "model.add(Conv2D(32, (3, 3), activation='relu', padding='same'))\n",
    "model.add(Conv2D(2, (3, 3), activation='tanh', padding='same'))\n",
    "model.add(UpSampling2D((2, 2)))"
   ]
  },
  {
   "cell_type": "markdown",
   "metadata": {
    "id": "Z6rGecLxy-c2"
   },
   "source": [
    "**Compiling**"
   ]
  },
  {
   "cell_type": "code",
   "execution_count": 18,
   "metadata": {
    "id": "9id-7i6oy9Au"
   },
   "outputs": [],
   "source": [
    "model.compile(optimizer='rmsprop',loss='mse')"
   ]
  },
  {
   "cell_type": "markdown",
   "metadata": {
    "id": "ZmzSveQn2DcZ"
   },
   "source": [
    "**Training**"
   ]
  },
  {
   "cell_type": "code",
   "execution_count": 20,
   "metadata": {
    "id": "WHsuSN092CIO"
   },
   "outputs": [
    {
     "name": "stdout",
     "output_type": "stream",
     "text": [
      "Epoch 1/100\n"
     ]
    },
    {
     "name": "stderr",
     "output_type": "stream",
     "text": [
      "C:\\Users\\sujay\\AppData\\Local\\Temp\\ipykernel_13360\\2637906542.py:2: UserWarning: `Model.fit_generator` is deprecated and will be removed in a future version. Please use `Model.fit`, which supports generators.\n",
      "  model.fit_generator(image_a_b_gen(batch_size),callbacks=[tensorboard],epochs=100,steps_per_epoch=10)\n"
     ]
    },
    {
     "name": "stdout",
     "output_type": "stream",
     "text": [
      "10/10 [==============================] - 10s 964ms/step - loss: 0.8267\n",
      "Epoch 2/100\n",
      "10/10 [==============================] - 9s 916ms/step - loss: 0.8253\n",
      "Epoch 3/100\n",
      "10/10 [==============================] - 9s 935ms/step - loss: 0.8290\n",
      "Epoch 4/100\n",
      "10/10 [==============================] - 9s 925ms/step - loss: 0.8262\n",
      "Epoch 5/100\n",
      "10/10 [==============================] - 9s 919ms/step - loss: 0.8245\n",
      "Epoch 6/100\n",
      "10/10 [==============================] - 9s 935ms/step - loss: 0.8280\n",
      "Epoch 7/100\n",
      "10/10 [==============================] - 9s 914ms/step - loss: 0.8322\n",
      "Epoch 8/100\n",
      "10/10 [==============================] - 10s 953ms/step - loss: 0.8276\n",
      "Epoch 9/100\n",
      "10/10 [==============================] - 9s 928ms/step - loss: 0.8309\n",
      "Epoch 10/100\n",
      "10/10 [==============================] - 9s 927ms/step - loss: 0.8248\n",
      "Epoch 11/100\n",
      "10/10 [==============================] - 9s 940ms/step - loss: 0.8296\n",
      "Epoch 12/100\n",
      "10/10 [==============================] - 9s 915ms/step - loss: 0.8308\n",
      "Epoch 13/100\n",
      "10/10 [==============================] - 9s 942ms/step - loss: 0.8278\n",
      "Epoch 14/100\n",
      "10/10 [==============================] - 9s 921ms/step - loss: 0.8268\n",
      "Epoch 15/100\n",
      "10/10 [==============================] - 10s 946ms/step - loss: 0.8259\n",
      "Epoch 16/100\n",
      "10/10 [==============================] - 9s 950ms/step - loss: 0.8241\n",
      "Epoch 17/100\n",
      "10/10 [==============================] - 9s 921ms/step - loss: 0.8302\n",
      "Epoch 18/100\n",
      "10/10 [==============================] - 9s 939ms/step - loss: 0.8285\n",
      "Epoch 19/100\n",
      "10/10 [==============================] - 9s 914ms/step - loss: 0.8288\n",
      "Epoch 20/100\n",
      "10/10 [==============================] - 9s 936ms/step - loss: 0.2987\n",
      "Epoch 21/100\n",
      "10/10 [==============================] - 9s 919ms/step - loss: 0.0471\n",
      "Epoch 22/100\n",
      "10/10 [==============================] - 9s 936ms/step - loss: 0.0208\n",
      "Epoch 23/100\n",
      "10/10 [==============================] - 9s 937ms/step - loss: 0.0092\n",
      "Epoch 24/100\n",
      "10/10 [==============================] - 9s 913ms/step - loss: 0.0051\n",
      "Epoch 25/100\n",
      "10/10 [==============================] - 9s 940ms/step - loss: 0.0041\n",
      "Epoch 26/100\n",
      "10/10 [==============================] - 9s 913ms/step - loss: 0.0034\n",
      "Epoch 27/100\n",
      "10/10 [==============================] - 9s 933ms/step - loss: 0.0030\n",
      "Epoch 28/100\n",
      "10/10 [==============================] - 9s 937ms/step - loss: 0.0026\n",
      "Epoch 29/100\n",
      "10/10 [==============================] - 9s 923ms/step - loss: 0.0024\n",
      "Epoch 30/100\n",
      "10/10 [==============================] - 9s 933ms/step - loss: 0.0027\n",
      "Epoch 31/100\n",
      "10/10 [==============================] - 9s 910ms/step - loss: 0.0023\n",
      "Epoch 32/100\n",
      "10/10 [==============================] - 9s 945ms/step - loss: 0.0026\n",
      "Epoch 33/100\n",
      "10/10 [==============================] - 9s 925ms/step - loss: 0.0023\n",
      "Epoch 34/100\n",
      "10/10 [==============================] - 9s 935ms/step - loss: 0.0029\n",
      "Epoch 35/100\n",
      "10/10 [==============================] - 9s 934ms/step - loss: 0.0022\n",
      "Epoch 36/100\n",
      "10/10 [==============================] - 9s 919ms/step - loss: 0.0442\n",
      "Epoch 37/100\n",
      "10/10 [==============================] - 9s 940ms/step - loss: 0.0023\n",
      "Epoch 38/100\n",
      "10/10 [==============================] - 9s 944ms/step - loss: 0.0021\n",
      "Epoch 39/100\n",
      "10/10 [==============================] - 9s 935ms/step - loss: 0.0027\n",
      "Epoch 40/100\n",
      "10/10 [==============================] - 9s 933ms/step - loss: 0.0021\n",
      "Epoch 41/100\n",
      "10/10 [==============================] - 9s 926ms/step - loss: 0.0018\n",
      "Epoch 42/100\n",
      "10/10 [==============================] - 9s 945ms/step - loss: 0.0031\n",
      "Epoch 43/100\n",
      "10/10 [==============================] - 9s 927ms/step - loss: 0.0023\n",
      "Epoch 44/100\n",
      "10/10 [==============================] - 9s 945ms/step - loss: 0.0021\n",
      "Epoch 45/100\n",
      "10/10 [==============================] - 9s 921ms/step - loss: 0.0022\n",
      "Epoch 46/100\n",
      "10/10 [==============================] - 9s 932ms/step - loss: 0.0021\n",
      "Epoch 47/100\n",
      "10/10 [==============================] - 9s 935ms/step - loss: 0.0018\n",
      "Epoch 48/100\n",
      "10/10 [==============================] - 9s 921ms/step - loss: 0.0023\n",
      "Epoch 49/100\n",
      "10/10 [==============================] - 9s 949ms/step - loss: 0.0017\n",
      "Epoch 50/100\n",
      "10/10 [==============================] - 9s 914ms/step - loss: 0.0023\n",
      "Epoch 51/100\n",
      "10/10 [==============================] - 10s 961ms/step - loss: 0.0022\n",
      "Epoch 52/100\n",
      "10/10 [==============================] - 9s 926ms/step - loss: 0.0018\n",
      "Epoch 53/100\n",
      "10/10 [==============================] - 9s 921ms/step - loss: 0.0020\n",
      "Epoch 54/100\n",
      "10/10 [==============================] - 9s 947ms/step - loss: 0.0017\n",
      "Epoch 55/100\n",
      "10/10 [==============================] - 9s 919ms/step - loss: 0.0020\n",
      "Epoch 56/100\n",
      "10/10 [==============================] - 9s 944ms/step - loss: 0.0017\n",
      "Epoch 57/100\n",
      "10/10 [==============================] - 10s 970ms/step - loss: 0.0022\n",
      "Epoch 58/100\n",
      "10/10 [==============================] - 10s 950ms/step - loss: 0.0018\n",
      "Epoch 59/100\n",
      "10/10 [==============================] - 9s 941ms/step - loss: 0.0018\n",
      "Epoch 60/100\n",
      "10/10 [==============================] - 9s 919ms/step - loss: 0.0017\n",
      "Epoch 61/100\n",
      "10/10 [==============================] - 9s 949ms/step - loss: 0.0019\n",
      "Epoch 62/100\n",
      "10/10 [==============================] - 9s 920ms/step - loss: 0.0016\n",
      "Epoch 63/100\n",
      "10/10 [==============================] - 9s 942ms/step - loss: 0.0016\n",
      "Epoch 64/100\n",
      "10/10 [==============================] - 9s 931ms/step - loss: 0.0015\n",
      "Epoch 65/100\n",
      "10/10 [==============================] - 10s 949ms/step - loss: 0.0019\n",
      "Epoch 66/100\n",
      "10/10 [==============================] - 9s 943ms/step - loss: 0.0018\n",
      "Epoch 67/100\n",
      "10/10 [==============================] - 9s 931ms/step - loss: 0.0016\n",
      "Epoch 68/100\n",
      "10/10 [==============================] - 9s 938ms/step - loss: 0.0015\n",
      "Epoch 69/100\n",
      "10/10 [==============================] - 9s 932ms/step - loss: 0.0017\n",
      "Epoch 70/100\n",
      "10/10 [==============================] - 9s 924ms/step - loss: 0.0016\n",
      "Epoch 71/100\n",
      "10/10 [==============================] - 9s 939ms/step - loss: 0.0016\n",
      "Epoch 72/100\n",
      "10/10 [==============================] - 9s 921ms/step - loss: 0.0016\n",
      "Epoch 73/100\n",
      "10/10 [==============================] - 10s 956ms/step - loss: 0.0016\n",
      "Epoch 74/100\n",
      "10/10 [==============================] - 9s 918ms/step - loss: 0.0019\n",
      "Epoch 75/100\n",
      "10/10 [==============================] - 9s 940ms/step - loss: 0.0014\n",
      "Epoch 76/100\n",
      "10/10 [==============================] - 9s 930ms/step - loss: 0.0014\n",
      "Epoch 77/100\n",
      "10/10 [==============================] - 9s 925ms/step - loss: 0.0015\n",
      "Epoch 78/100\n",
      "10/10 [==============================] - 9s 937ms/step - loss: 0.0016\n",
      "Epoch 79/100\n",
      "10/10 [==============================] - 9s 904ms/step - loss: 0.0015\n",
      "Epoch 80/100\n",
      "10/10 [==============================] - 10s 1s/step - loss: 0.0017\n",
      "Epoch 81/100\n",
      "10/10 [==============================] - 9s 948ms/step - loss: 0.0016\n",
      "Epoch 82/100\n",
      "10/10 [==============================] - 9s 935ms/step - loss: 0.0016\n",
      "Epoch 83/100\n",
      "10/10 [==============================] - 9s 940ms/step - loss: 0.0016\n",
      "Epoch 84/100\n",
      "10/10 [==============================] - 9s 917ms/step - loss: 0.0016\n",
      "Epoch 85/100\n",
      "10/10 [==============================] - 9s 946ms/step - loss: 0.0016\n",
      "Epoch 86/100\n",
      "10/10 [==============================] - 9s 923ms/step - loss: 0.0014\n",
      "Epoch 87/100\n",
      "10/10 [==============================] - 9s 931ms/step - loss: 0.0016\n",
      "Epoch 88/100\n",
      "10/10 [==============================] - 10s 958ms/step - loss: 0.0014\n",
      "Epoch 89/100\n",
      "10/10 [==============================] - 9s 918ms/step - loss: 0.0015\n",
      "Epoch 90/100\n",
      "10/10 [==============================] - 9s 948ms/step - loss: 0.0014\n",
      "Epoch 91/100\n",
      "10/10 [==============================] - 9s 912ms/step - loss: 0.0016\n",
      "Epoch 92/100\n",
      "10/10 [==============================] - 10s 954ms/step - loss: 0.0015\n",
      "Epoch 93/100\n",
      "10/10 [==============================] - 9s 947ms/step - loss: 0.0015\n",
      "Epoch 94/100\n",
      "10/10 [==============================] - 10s 956ms/step - loss: 0.0014\n",
      "Epoch 95/100\n",
      "10/10 [==============================] - 9s 946ms/step - loss: 0.0015\n",
      "Epoch 96/100\n",
      "10/10 [==============================] - 9s 923ms/step - loss: 0.0013\n",
      "Epoch 97/100\n",
      "10/10 [==============================] - 10s 951ms/step - loss: 0.0017\n",
      "Epoch 98/100\n",
      "10/10 [==============================] - 9s 927ms/step - loss: 0.0013\n",
      "Epoch 99/100\n"
     ]
    },
    {
     "name": "stdout",
     "output_type": "stream",
     "text": [
      "10/10 [==============================] - 9s 933ms/step - loss: 0.0015\n",
      "Epoch 100/100\n",
      "10/10 [==============================] - 10s 963ms/step - loss: 0.0015\n"
     ]
    },
    {
     "data": {
      "text/plain": [
       "<keras.callbacks.History at 0x1d580440e80>"
      ]
     },
     "execution_count": 20,
     "metadata": {},
     "output_type": "execute_result"
    }
   ],
   "source": [
    "tensorboard=tensorboard = TensorBoard(log_dir=\"output/first_run\")\n",
    "model.fit_generator(image_a_b_gen(batch_size),callbacks=[tensorboard],epochs=100,steps_per_epoch=10)"
   ]
  },
  {
   "cell_type": "code",
   "execution_count": 9,
   "metadata": {},
   "outputs": [
    {
     "ename": "ValueError",
     "evalue": "in user code:\n\n    File \"C:\\Users\\sujay\\anaconda3\\lib\\site-packages\\keras\\engine\\training.py\", line 1727, in test_function  *\n        return step_function(self, iterator)\n    File \"C:\\Users\\sujay\\anaconda3\\lib\\site-packages\\keras\\engine\\training.py\", line 1713, in step_function  **\n        outputs = model.distribute_strategy.run(run_step, args=(data,))\n    File \"C:\\Users\\sujay\\anaconda3\\lib\\site-packages\\keras\\engine\\training.py\", line 1701, in run_step  **\n        outputs = model.test_step(data)\n    File \"C:\\Users\\sujay\\anaconda3\\lib\\site-packages\\keras\\engine\\training.py\", line 1667, in test_step\n        self.compute_loss(x, y, y_pred, sample_weight)\n    File \"C:\\Users\\sujay\\anaconda3\\lib\\site-packages\\keras\\engine\\training.py\", line 1052, in compute_loss\n        return self.compiled_loss(\n    File \"C:\\Users\\sujay\\anaconda3\\lib\\site-packages\\keras\\engine\\compile_utils.py\", line 265, in __call__\n        loss_value = loss_obj(y_t, y_p, sample_weight=sw)\n    File \"C:\\Users\\sujay\\anaconda3\\lib\\site-packages\\keras\\losses.py\", line 152, in __call__\n        losses = call_fn(y_true, y_pred)\n    File \"C:\\Users\\sujay\\anaconda3\\lib\\site-packages\\keras\\losses.py\", line 272, in call  **\n        return ag_fn(y_true, y_pred, **self._fn_kwargs)\n    File \"C:\\Users\\sujay\\anaconda3\\lib\\site-packages\\keras\\losses.py\", line 1486, in mean_squared_error\n        return backend.mean(tf.math.squared_difference(y_pred, y_true), axis=-1)\n\n    ValueError: Dimensions must be equal, but are 8 and 127 for '{{node mean_squared_error/SquaredDifference}} = SquaredDifference[T=DT_FLOAT](sequential/up_sampling2d_2/resize/ResizeNearestNeighbor, IteratorGetNext:1)' with input shapes: [1,128,8,2], [1,128,127,3].\n",
     "output_type": "error",
     "traceback": [
      "\u001b[1;31m---------------------------------------------------------------------------\u001b[0m",
      "\u001b[1;31mValueError\u001b[0m                                Traceback (most recent call last)",
      "\u001b[1;32m~\\AppData\\Local\\Temp\\ipykernel_13360\\1208133675.py\u001b[0m in \u001b[0;36m<module>\u001b[1;34m\u001b[0m\n\u001b[0;32m      1\u001b[0m \u001b[0mY\u001b[0m\u001b[1;33m=\u001b[0m\u001b[0mrgb2lab\u001b[0m\u001b[1;33m(\u001b[0m\u001b[0mX\u001b[0m\u001b[1;33m)\u001b[0m\u001b[1;33m[\u001b[0m\u001b[1;33m:\u001b[0m\u001b[1;33m,\u001b[0m\u001b[1;33m:\u001b[0m\u001b[1;33m,\u001b[0m\u001b[1;36m1\u001b[0m\u001b[1;33m:\u001b[0m\u001b[1;33m]\u001b[0m\u001b[1;33m\u001b[0m\u001b[1;33m\u001b[0m\u001b[0m\n\u001b[0;32m      2\u001b[0m \u001b[0mX\u001b[0m\u001b[1;33m=\u001b[0m\u001b[0mrgb2lab\u001b[0m\u001b[1;33m(\u001b[0m\u001b[0mX\u001b[0m\u001b[1;33m)\u001b[0m\u001b[1;33m[\u001b[0m\u001b[1;33m:\u001b[0m\u001b[1;33m,\u001b[0m\u001b[1;33m:\u001b[0m\u001b[1;33m,\u001b[0m\u001b[1;36m0\u001b[0m\u001b[1;33m]\u001b[0m\u001b[1;33m\u001b[0m\u001b[1;33m\u001b[0m\u001b[0m\n\u001b[1;32m----> 3\u001b[1;33m \u001b[0mprint\u001b[0m\u001b[1;33m(\u001b[0m\u001b[0mmodel\u001b[0m\u001b[1;33m.\u001b[0m\u001b[0mevaluate\u001b[0m\u001b[1;33m(\u001b[0m\u001b[0mX\u001b[0m\u001b[1;33m,\u001b[0m\u001b[0mY\u001b[0m\u001b[1;33m,\u001b[0m\u001b[0mbatch_size\u001b[0m\u001b[1;33m=\u001b[0m\u001b[1;36m1\u001b[0m\u001b[1;33m)\u001b[0m\u001b[1;33m)\u001b[0m\u001b[1;33m\u001b[0m\u001b[1;33m\u001b[0m\u001b[0m\n\u001b[0m",
      "\u001b[1;32m~\\anaconda3\\lib\\site-packages\\keras\\utils\\traceback_utils.py\u001b[0m in \u001b[0;36merror_handler\u001b[1;34m(*args, **kwargs)\u001b[0m\n\u001b[0;32m     68\u001b[0m             \u001b[1;31m# To get the full stack trace, call:\u001b[0m\u001b[1;33m\u001b[0m\u001b[1;33m\u001b[0m\u001b[0m\n\u001b[0;32m     69\u001b[0m             \u001b[1;31m# `tf.debugging.disable_traceback_filtering()`\u001b[0m\u001b[1;33m\u001b[0m\u001b[1;33m\u001b[0m\u001b[0m\n\u001b[1;32m---> 70\u001b[1;33m             \u001b[1;32mraise\u001b[0m \u001b[0me\u001b[0m\u001b[1;33m.\u001b[0m\u001b[0mwith_traceback\u001b[0m\u001b[1;33m(\u001b[0m\u001b[0mfiltered_tb\u001b[0m\u001b[1;33m)\u001b[0m \u001b[1;32mfrom\u001b[0m \u001b[1;32mNone\u001b[0m\u001b[1;33m\u001b[0m\u001b[1;33m\u001b[0m\u001b[0m\n\u001b[0m\u001b[0;32m     71\u001b[0m         \u001b[1;32mfinally\u001b[0m\u001b[1;33m:\u001b[0m\u001b[1;33m\u001b[0m\u001b[1;33m\u001b[0m\u001b[0m\n\u001b[0;32m     72\u001b[0m             \u001b[1;32mdel\u001b[0m \u001b[0mfiltered_tb\u001b[0m\u001b[1;33m\u001b[0m\u001b[1;33m\u001b[0m\u001b[0m\n",
      "\u001b[1;32m~\\anaconda3\\lib\\site-packages\\keras\\engine\\training.py\u001b[0m in \u001b[0;36mtf__test_function\u001b[1;34m(iterator)\u001b[0m\n\u001b[0;32m     13\u001b[0m                 \u001b[1;32mtry\u001b[0m\u001b[1;33m:\u001b[0m\u001b[1;33m\u001b[0m\u001b[1;33m\u001b[0m\u001b[0m\n\u001b[0;32m     14\u001b[0m                     \u001b[0mdo_return\u001b[0m \u001b[1;33m=\u001b[0m \u001b[1;32mTrue\u001b[0m\u001b[1;33m\u001b[0m\u001b[1;33m\u001b[0m\u001b[0m\n\u001b[1;32m---> 15\u001b[1;33m                     \u001b[0mretval_\u001b[0m \u001b[1;33m=\u001b[0m \u001b[0mag__\u001b[0m\u001b[1;33m.\u001b[0m\u001b[0mconverted_call\u001b[0m\u001b[1;33m(\u001b[0m\u001b[0mag__\u001b[0m\u001b[1;33m.\u001b[0m\u001b[0mld\u001b[0m\u001b[1;33m(\u001b[0m\u001b[0mstep_function\u001b[0m\u001b[1;33m)\u001b[0m\u001b[1;33m,\u001b[0m \u001b[1;33m(\u001b[0m\u001b[0mag__\u001b[0m\u001b[1;33m.\u001b[0m\u001b[0mld\u001b[0m\u001b[1;33m(\u001b[0m\u001b[0mself\u001b[0m\u001b[1;33m)\u001b[0m\u001b[1;33m,\u001b[0m \u001b[0mag__\u001b[0m\u001b[1;33m.\u001b[0m\u001b[0mld\u001b[0m\u001b[1;33m(\u001b[0m\u001b[0miterator\u001b[0m\u001b[1;33m)\u001b[0m\u001b[1;33m)\u001b[0m\u001b[1;33m,\u001b[0m \u001b[1;32mNone\u001b[0m\u001b[1;33m,\u001b[0m \u001b[0mfscope\u001b[0m\u001b[1;33m)\u001b[0m\u001b[1;33m\u001b[0m\u001b[1;33m\u001b[0m\u001b[0m\n\u001b[0m\u001b[0;32m     16\u001b[0m                 \u001b[1;32mexcept\u001b[0m\u001b[1;33m:\u001b[0m\u001b[1;33m\u001b[0m\u001b[1;33m\u001b[0m\u001b[0m\n\u001b[0;32m     17\u001b[0m                     \u001b[0mdo_return\u001b[0m \u001b[1;33m=\u001b[0m \u001b[1;32mFalse\u001b[0m\u001b[1;33m\u001b[0m\u001b[1;33m\u001b[0m\u001b[0m\n",
      "\u001b[1;31mValueError\u001b[0m: in user code:\n\n    File \"C:\\Users\\sujay\\anaconda3\\lib\\site-packages\\keras\\engine\\training.py\", line 1727, in test_function  *\n        return step_function(self, iterator)\n    File \"C:\\Users\\sujay\\anaconda3\\lib\\site-packages\\keras\\engine\\training.py\", line 1713, in step_function  **\n        outputs = model.distribute_strategy.run(run_step, args=(data,))\n    File \"C:\\Users\\sujay\\anaconda3\\lib\\site-packages\\keras\\engine\\training.py\", line 1701, in run_step  **\n        outputs = model.test_step(data)\n    File \"C:\\Users\\sujay\\anaconda3\\lib\\site-packages\\keras\\engine\\training.py\", line 1667, in test_step\n        self.compute_loss(x, y, y_pred, sample_weight)\n    File \"C:\\Users\\sujay\\anaconda3\\lib\\site-packages\\keras\\engine\\training.py\", line 1052, in compute_loss\n        return self.compiled_loss(\n    File \"C:\\Users\\sujay\\anaconda3\\lib\\site-packages\\keras\\engine\\compile_utils.py\", line 265, in __call__\n        loss_value = loss_obj(y_t, y_p, sample_weight=sw)\n    File \"C:\\Users\\sujay\\anaconda3\\lib\\site-packages\\keras\\losses.py\", line 152, in __call__\n        losses = call_fn(y_true, y_pred)\n    File \"C:\\Users\\sujay\\anaconda3\\lib\\site-packages\\keras\\losses.py\", line 272, in call  **\n        return ag_fn(y_true, y_pred, **self._fn_kwargs)\n    File \"C:\\Users\\sujay\\anaconda3\\lib\\site-packages\\keras\\losses.py\", line 1486, in mean_squared_error\n        return backend.mean(tf.math.squared_difference(y_pred, y_true), axis=-1)\n\n    ValueError: Dimensions must be equal, but are 8 and 127 for '{{node mean_squared_error/SquaredDifference}} = SquaredDifference[T=DT_FLOAT](sequential/up_sampling2d_2/resize/ResizeNearestNeighbor, IteratorGetNext:1)' with input shapes: [1,128,8,2], [1,128,127,3].\n"
     ]
    }
   ],
   "source": [
    "\n",
    "print(model.evaluate(X,Y,batch_size=1))"
   ]
  },
  {
   "cell_type": "markdown",
   "metadata": {
    "id": "zQYk6AO13tpp"
   },
   "source": [
    "**Saving** **model**"
   ]
  },
  {
   "cell_type": "code",
   "execution_count": 24,
   "metadata": {
    "id": "LFOGyboF3sUC"
   },
   "outputs": [],
   "source": [
    "model.save('Image_colorizer_model.h5')"
   ]
  },
  {
   "cell_type": "markdown",
   "metadata": {
    "id": "WnrCoN514cJk"
   },
   "source": [
    "**Preprocessing Testing images**"
   ]
  },
  {
   "cell_type": "code",
   "execution_count": 21,
   "metadata": {},
   "outputs": [],
   "source": [
    "Z=[]\n",
    "for filename in os.listdir('dataset/Test'):\n",
    "    Z.append(rgb2lab(img_to_array(load_img('dataset/Test/'+ filename)))[:,:,0])\n",
    "Z=np.array(Z,dtype=float)\n",
    "Z=Z/255\n",
    "Z=Z.reshape(len(Z),256,256,1)"
   ]
  },
  {
   "cell_type": "markdown",
   "metadata": {
    "id": "3QmVk3QShCwg"
   },
   "source": [
    "**Running tests**"
   ]
  },
  {
   "cell_type": "code",
   "execution_count": 22,
   "metadata": {
    "id": "InhXJOfShJ_H"
   },
   "outputs": [
    {
     "name": "stdout",
     "output_type": "stream",
     "text": [
      "1/1 [==============================] - 0s 485ms/step\n"
     ]
    }
   ],
   "source": [
    "#model=load_model('Image_colorizer_model.h5')\n",
    "output=model.predict(Z)\n",
    "output=output*128"
   ]
  },
  {
   "cell_type": "markdown",
   "metadata": {
    "id": "treDegkTg69P"
   },
   "source": [
    "**Saving images**"
   ]
  },
  {
   "cell_type": "code",
   "execution_count": 25,
   "metadata": {
    "id": "j2Fwxl3Rg-mh"
   },
   "outputs": [
    {
     "name": "stderr",
     "output_type": "stream",
     "text": [
      "C:\\Users\\sujay\\AppData\\Local\\Temp\\ipykernel_13360\\1409828496.py:5: UserWarning: new_result/img_0.png is a low contrast image\n",
      "  imsave('new_result/img_'+ str(i)+'.png',lab2rgb(cur))\n",
      "Lossy conversion from float64 to uint8. Range [0, 1]. Convert image to uint8 prior to saving to suppress this warning.\n",
      "Lossy conversion from float64 to uint8. Range [0, 1]. Convert image to uint8 prior to saving to suppress this warning.\n",
      "C:\\Users\\sujay\\AppData\\Local\\Temp\\ipykernel_13360\\1409828496.py:5: UserWarning: new_result/img_2.png is a low contrast image\n",
      "  imsave('new_result/img_'+ str(i)+'.png',lab2rgb(cur))\n",
      "Lossy conversion from float64 to uint8. Range [0, 1]. Convert image to uint8 prior to saving to suppress this warning.\n",
      "Lossy conversion from float64 to uint8. Range [0, 1]. Convert image to uint8 prior to saving to suppress this warning.\n",
      "C:\\Users\\sujay\\AppData\\Local\\Temp\\ipykernel_13360\\1409828496.py:5: UserWarning: new_result/img_4.png is a low contrast image\n",
      "  imsave('new_result/img_'+ str(i)+'.png',lab2rgb(cur))\n",
      "Lossy conversion from float64 to uint8. Range [0, 1]. Convert image to uint8 prior to saving to suppress this warning.\n",
      "C:\\Users\\sujay\\AppData\\Local\\Temp\\ipykernel_13360\\1409828496.py:5: UserWarning: new_result/img_5.png is a low contrast image\n",
      "  imsave('new_result/img_'+ str(i)+'.png',lab2rgb(cur))\n",
      "Lossy conversion from float64 to uint8. Range [0, 1]. Convert image to uint8 prior to saving to suppress this warning.\n",
      "C:\\Users\\sujay\\AppData\\Local\\Temp\\ipykernel_13360\\1409828496.py:5: UserWarning: new_result/img_6.png is a low contrast image\n",
      "  imsave('new_result/img_'+ str(i)+'.png',lab2rgb(cur))\n",
      "Lossy conversion from float64 to uint8. Range [0, 1]. Convert image to uint8 prior to saving to suppress this warning.\n",
      "C:\\Users\\sujay\\AppData\\Local\\Temp\\ipykernel_13360\\1409828496.py:5: UserWarning: new_result/img_7.png is a low contrast image\n",
      "  imsave('new_result/img_'+ str(i)+'.png',lab2rgb(cur))\n",
      "Lossy conversion from float64 to uint8. Range [0, 1]. Convert image to uint8 prior to saving to suppress this warning.\n"
     ]
    }
   ],
   "source": [
    "for i in range(len(output)):\n",
    "  cur=np.zeros((256,256,3))\n",
    "  cur[:,:,0]=Z[i][:,:,0]\n",
    "  cur[:,:,1:]=output[i]\n",
    "  imsave('results/img_'+ str(i)+'.png',lab2rgb(cur))"
   ]
  },
  {
   "cell_type": "code",
   "execution_count": 63,
   "metadata": {},
   "outputs": [
    {
     "name": "stdout",
     "output_type": "stream",
     "text": [
      "1/1 [==============================] - 1s 513ms/step\n"
     ]
    },
    {
     "name": "stderr",
     "output_type": "stream",
     "text": [
      "Lossy conversion from float64 to uint8. Range [0, 1]. Convert image to uint8 prior to saving to suppress this warning.\n",
      "Lossy conversion from float64 to uint8. Range [0, 1]. Convert image to uint8 prior to saving to suppress this warning.\n",
      "Lossy conversion from float64 to uint8. Range [0, 1]. Convert image to uint8 prior to saving to suppress this warning.\n",
      "Lossy conversion from float64 to uint8. Range [0, 1]. Convert image to uint8 prior to saving to suppress this warning.\n",
      "Lossy conversion from float64 to uint8. Range [0, 1]. Convert image to uint8 prior to saving to suppress this warning.\n",
      "Lossy conversion from float64 to uint8. Range [0, 1]. Convert image to uint8 prior to saving to suppress this warning.\n",
      "Lossy conversion from float64 to uint8. Range [0, 1]. Convert image to uint8 prior to saving to suppress this warning.\n",
      "Lossy conversion from float64 to uint8. Range [0, 1]. Convert image to uint8 prior to saving to suppress this warning.\n"
     ]
    }
   ],
   "source": [
    "model=load_model('Image_colorizer_model.h5')\n",
    "Z=[]\n",
    "for filename in os.listdir('dataset/Test'):\n",
    "    Z.append(rgb2lab(img_to_array(load_img('dataset/Test/'+ filename)))[:,:,0])\n",
    "Z=np.array(Z,dtype=float)\n",
    "Z=Z/255\n",
    "Z=Z.reshape(len(Z),256,256,1)\n",
    "output=model.predict(Z)\n",
    "output=output*128\n",
    "for i in range(len(output)):\n",
    "  cur=np.zeros((256,256,3))\n",
    "  cur[:,:,0]=Z[i][:,:,0]\n",
    "  cur[:,:,1:]=output[i]\n",
    "  imsave('new_result/img_'+ str(i)+'.png',lab2rgb(cur))"
   ]
  },
  {
   "cell_type": "code",
   "execution_count": null,
   "metadata": {},
   "outputs": [],
   "source": []
  }
 ],
 "metadata": {
  "colab": {
   "collapsed_sections": [],
   "provenance": []
  },
  "kernelspec": {
   "display_name": "Python 3 (ipykernel)",
   "language": "python",
   "name": "python3"
  },
  "language_info": {
   "codemirror_mode": {
    "name": "ipython",
    "version": 3
   },
   "file_extension": ".py",
   "mimetype": "text/x-python",
   "name": "python",
   "nbconvert_exporter": "python",
   "pygments_lexer": "ipython3",
   "version": "3.9.13"
  }
 },
 "nbformat": 4,
 "nbformat_minor": 1
}
